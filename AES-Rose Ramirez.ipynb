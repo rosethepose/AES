{
 "cells": [
  {
   "cell_type": "code",
   "execution_count": 194,
   "metadata": {},
   "outputs": [],
   "source": [
    "from IPython.display import display, Math, Latex\n",
    "import functools\n",
    "import itertools"
   ]
  },
  {
   "cell_type": "code",
   "execution_count": 195,
   "metadata": {},
   "outputs": [],
   "source": [
    "def AES_mult(a,b):\n",
    "    res = 0\n",
    "    p = b\n",
    "    while a != 0:\n",
    "        if a%2 == 1:\n",
    "            res ^= p\n",
    "        a >>= 1 # divide by x (discard constant coefficient)\n",
    "        p <<= 1\n",
    "        if p&0x100:\n",
    "            p ^= 0x11b\n",
    "\n",
    "    return res"
   ]
  },
  {
   "cell_type": "code",
   "execution_count": 196,
   "metadata": {},
   "outputs": [],
   "source": [
    "inv_table = {}\n",
    "for i in range(1,256):\n",
    "    for j in range(1,i+1):\n",
    "        if AES_mult(i,j) == 0x01:\n",
    "            inv_table[i]=j\n",
    "            inv_table[j] = i"
   ]
  },
  {
   "cell_type": "code",
   "execution_count": 197,
   "metadata": {},
   "outputs": [
    {
     "name": "stdout",
     "output_type": "stream",
     "text": [
      "Life is good\n"
     ]
    }
   ],
   "source": [
    "ok = True\n",
    "for i in range(1,256):\n",
    "    if AES_mult(i,inv_table[i]) != 1:\n",
    "        ok = False\n",
    "        print(\"Hey. This is wrong %x * %x != 1\"%(i,inv_table[i]))\n",
    "if ok:\n",
    "    print(\"Life is good\")"
   ]
  },
  {
   "cell_type": "code",
   "execution_count": 198,
   "metadata": {},
   "outputs": [],
   "source": [
    "def AES_poly_mult_alt(p,q):\n",
    "    res = [0,0,0,0]\n",
    "    for k in range(4):\n",
    "        for i in range(4):\n",
    "            res[k] ^= AES_mult(p[i],q[(-i)%4])\n",
    "    return res"
   ]
  },
  {
   "cell_type": "code",
   "execution_count": 199,
   "metadata": {},
   "outputs": [],
   "source": [
    "def T(p):\n",
    "    return ((p&0xf)<<4 & (p>>4)&0x0f)^ p ^ 0x63\n",
    "def J(p):\n",
    "    if p == 0:\n",
    "        return p\n",
    "    else:\n",
    "        return inv_table[p]\n",
    "\n",
    "def S(p):\n",
    "    return T(J(p))"
   ]
  },
  {
   "cell_type": "code",
   "execution_count": 200,
   "metadata": {
    "scrolled": true
   },
   "outputs": [
    {
     "data": {
      "text/plain": [
       "240"
      ]
     },
     "execution_count": 200,
     "metadata": {},
     "output_type": "execute_result"
    }
   ],
   "source": [
    "S(Sinv(240))"
   ]
  },
  {
   "cell_type": "code",
   "execution_count": 201,
   "metadata": {},
   "outputs": [],
   "source": [
    "def Sinv(q):\n",
    "    return J(T(q))"
   ]
  },
  {
   "cell_type": "code",
   "execution_count": 202,
   "metadata": {
    "scrolled": true
   },
   "outputs": [],
   "source": [
    "mixing_p = [[2,3,1,1],\n",
    "            [1,2,3,1],\n",
    "            [1,1,2,3],\n",
    "            [3,1,1,2]]"
   ]
  },
  {
   "cell_type": "code",
   "execution_count": 203,
   "metadata": {},
   "outputs": [],
   "source": [
    "def AES_poly_mult(p,q):\n",
    "    res = [0,0,0,0]\n",
    "    for i in range(4):\n",
    "        for j in range(4):\n",
    "            res[(i+j)%4] ^= AES_mult(p[i],q[j])\n",
    "        \n",
    "    return res"
   ]
  },
  {
   "cell_type": "code",
   "execution_count": 204,
   "metadata": {},
   "outputs": [],
   "source": [
    "def MixColumns(s):\n",
    "    for c in range(4):\n",
    "        s[c] = AES_poly_mult(mixing_p[c], s[c])\n",
    "        \n",
    "def MixColumnsInv(s):\n",
    "    for c in range(4):\n",
    "        s[c] = AES_poly_mult(unmixing_p, s[c])"
   ]
  },
  {
   "cell_type": "code",
   "execution_count": 205,
   "metadata": {},
   "outputs": [
    {
     "data": {
      "text/plain": [
       "[[15, 0, 5, 14], [5, 2, 7, 0], [13, 20, 15, 16], [3, 4, 1, 6]]"
      ]
     },
     "execution_count": 205,
     "metadata": {},
     "output_type": "execute_result"
    }
   ],
   "source": [
    "s = [[1,2,3,4],[4,5,6,7],[7,8,9,0],[0,1,2,3]]\n",
    "MixColumns(s)\n",
    "s"
   ]
  },
  {
   "cell_type": "code",
   "execution_count": 206,
   "metadata": {},
   "outputs": [],
   "source": [
    "def ShiftRows(s):   \n",
    "    for r in range(1,4): # We do nothing to the 0th row, so skip that\n",
    "        s[0][r],s[1][r],s[2][r],s[3][r] = \\\n",
    "        s[r][r], s[(r+1)&0x3][r], s[(r+2)&0x3][r], s[(r+3)&0x3][r]  "
   ]
  },
  {
   "cell_type": "code",
   "execution_count": 207,
   "metadata": {},
   "outputs": [],
   "source": [
    "SBox = [S(p) for p in range(0x100)]\n",
    "SBoxInv = [Sinv(q) for q in range(0x100)]"
   ]
  },
  {
   "cell_type": "code",
   "execution_count": 208,
   "metadata": {},
   "outputs": [],
   "source": [
    "#SBox = [[0x63, 0x7c, 0x77, 0x7b, 0xf2, 0x6b, 0x6f, 0xc5, 0x30, 0x01, 0x67, 0x2b, 0xfe, 0xd7, 0xab, 0x76],\n",
    "#        [0xca, 0x82, 0xc9, 0x7d, 0xfa, 0x59, 0x47, 0xf0, 0xad, 0xd4, 0xa2, 0xaf, 0x9c, 0xa4, 0x72, 0xc0],\n",
    "#        [0xb7, 0xfd, 0x93, 0x26, 0x36, 0x3f, 0xf7, 0xcc, 0x34, 0xa5, 0xe5, 0xf1, 0x71, 0xd8, 0x31, 0x15],\n",
    "#        [0x04, 0xc7, 0x23, 0xc3, 0x18, 0x96, 0x05, 0x9a, 0x07, 0x12, 0x80, 0xe2, 0xeb, 0x27, 0xb2, 0x75],\n",
    "#        [0x09, 0x83, 0x2c, 0x1a, 0x1b, 0x6e, 0x5a, 0xa0, 0x52, 0x3b, 0xd6, 0xb3, 0x29, 0xe3, 0x2f, 0x84],\n",
    "#        [0x53, 0xd1, 0x00, 0xed, 0x20, 0xfc, 0xb1, 0x5b, 0x6a, 0xcb, 0xbe, 0x39, 0x4a, 0x4c, 0x58, 0xcf],\n",
    "#        [0xd0, 0xef, 0xaa, 0xfb, 0x43, 0x4d, 0x33, 0x85, 0x45, 0xf9, 0x02, 0x7f, 0x50, 0x3c, 0x9f, 0xa8],\n",
    "#        [0x51, 0xa3, 0x40, 0x8f, 0x92, 0x9d, 0x38, 0xf5, 0xbc, 0xb6, 0xda, 0x21, 0x10, 0xff, 0xf3, 0xd2],\n",
    "#        [0xcd, 0x0c, 0x13, 0xec, 0x5f, 0x97, 0x44, 0x17, 0xc4, 0xa7, 0x7e, 0x3d, 0x64, 0x5d, 0x19, 0x73],\n",
    "#        [0x60, 0x81, 0x4f, 0xdc, 0x22, 0x2a, 0x90, 0x88, 0x46, 0xee, 0xb8, 0x14, 0xde, 0x5e, 0x0b, 0xdb],\n",
    "#        [0xe0, 0x32, 0x3a, 0x0a, 0x49, 0x06, 0x24, 0x5c, 0xc2, 0xd3, 0xac, 0x62, 0x91, 0x95, 0xe4, 0x79],\n",
    "#        [0xe7, 0xc8, 0x37, 0x6d, 0x8d, 0xd5, 0x4e, 0xa9, 0x6c, 0x56, 0xf4, 0xea, 0x65, 0x7a, 0xae, 0x08],\n",
    "#        [0xba, 0x78, 0x25, 0x2e, 0x1c, 0xa6, 0xb4, 0xc6, 0xe8, 0xdd, 0x74, 0x1f, 0x4b, 0xbd, 0x8b, 0x8a],\n",
    "#        [0x70, 0x3e, 0xb5, 0x66, 0x48, 0x03, 0xf6, 0x0e, 0x61, 0x35, 0x57, 0xb9, 0x86, 0xc1, 0x1d, 0x9e],\n",
    "#        [0xe1, 0xf8, 0x98, 0x11, 0x69, 0xd9, 0x8e, 0x94, 0x9b, 0x1e, 0x87, 0xe9, 0xce, 0x55, 0x28, 0xdf],\n",
    "#        [0x8c, 0xa1, 0x89, 0x0d, 0xbf, 0xe6, 0x42, 0x68, 0x41, 0x99, 0x2d, 0x0f, 0xb0, 0x54, 0xbb, 0x16],]"
   ]
  },
  {
   "cell_type": "code",
   "execution_count": 209,
   "metadata": {},
   "outputs": [],
   "source": [
    "#SBoxInv = [[0x52, 0x09, 0x6a, 0xd5, 0x30, 0x36, 0xa5, 0x38, 0xbf, 0x40, 0xa3, 0x9e, 0x81, 0xf3, 0xd7, 0xfb],\n",
    "#           [0x7c, 0xe3, 0x39, 0x82, 0x9b, 0x2f, 0xff, 0x87, 0x34, 0x8e, 0x43, 0x44, 0xc4, 0xde, 0xe9, 0xcb],\n",
    "#           [0x54, 0x7b, 0x94, 0x32, 0xa6, 0xc2, 0x23, 0x3d, 0xee, 0x4c, 0x95, 0x0b, 0x42, 0xfa, 0xc3, 0x4e],\n",
    "#           [0x08, 0x2e, 0xa1, 0x66, 0x28, 0xd9, 0x24, 0xb2, 0x76, 0x5b, 0xa2, 0x49, 0x6d, 0x8b, 0xd1, 0x25],\n",
    "#           [0x72, 0xf8, 0xf6, 0x64, 0x86, 0x68, 0x98, 0x16, 0xd4, 0xa4, 0x5c, 0xcc, 0x5d, 0x65, 0xb6, 0x92], \n",
    "#           [0x6c, 0x70, 0x48, 0x50, 0xfd, 0xed, 0xb9, 0xda, 0x5e, 0x15, 0x46, 0x57, 0xa7, 0x8d, 0x9d, 0x84], \n",
    "#           [0x90, 0xd8, 0xab, 0x00, 0x8c, 0xbc, 0xd3, 0x0a, 0xf7, 0xe4, 0x58, 0x05, 0xb8, 0xb3, 0x45, 0x06], \n",
    "#           [0xd0, 0x2c, 0x1e, 0x8f, 0xca, 0x3f, 0x0f, 0x02, 0xc1, 0xaf, 0xbd, 0x03, 0x01, 0x13, 0x8a, 0x6b], \n",
    "#           [0x3a, 0x91, 0x11, 0x41, 0x4f, 0x67, 0xdc, 0xea, 0x97, 0xf2, 0xcf, 0xce, 0xf0, 0xb4, 0xe6, 0x73], \n",
    "#           [0x96, 0xac, 0x74, 0x22, 0xe7, 0xad, 0x35, 0x85, 0xe2, 0xf9, 0x37, 0xe8, 0x1c, 0x75, 0xdf, 0x6e], \n",
    "#           [0x47, 0xf1, 0x1a, 0x71, 0x1d, 0x29, 0xc5, 0x89, 0x6f, 0xb7, 0x62, 0x0e, 0xaa, 0x18, 0xbe, 0x1b], \n",
    "#           [0xfc, 0x56, 0x3e, 0x4b, 0xc6, 0xd2, 0x79, 0x20, 0x9a, 0xdb, 0xc0, 0xfe, 0x78, 0xcd, 0x5a, 0xf4], \n",
    "#           [0x1f, 0xdd, 0xa8, 0x33, 0x88, 0x07, 0xc7, 0x31, 0xb1, 0x12, 0x10, 0x59, 0x27, 0x80, 0xec, 0x5f], \n",
    "#           [0x60, 0x51, 0x7f, 0xa9, 0x19, 0xb5, 0x4a, 0x0d, 0x2d, 0xe5, 0x7a, 0x9f, 0x93, 0xc9, 0x9c, 0xef], \n",
    "#           [0xa0, 0xe0, 0x3b, 0x4d, 0xae, 0x2a, 0xf5, 0xb0, 0xc8, 0xeb, 0xbb, 0x3c, 0x83, 0x53, 0x99, 0x61], \n",
    "#           [0x17, 0x2b, 0x04, 0x7e, 0xba, 0x77, 0xd6, 0x26, 0xe1, 0x69, 0x14, 0x63, 0x55, 0x21, 0x0c, 0x7d]]"
   ]
  },
  {
   "cell_type": "code",
   "execution_count": 210,
   "metadata": {},
   "outputs": [],
   "source": [
    "def SubstBytes(s):\n",
    "    for c in range(4):\n",
    "        for c in range(4):\n",
    "            s[c][r] = SBox[s[c][r]]\n",
    "\n",
    "def SustBytesInv(s):\n",
    "    for c in range(4):\n",
    "        for r in range(4):\n",
    "            s[c][r] = SBoxInv[s[c][r]]"
   ]
  },
  {
   "cell_type": "code",
   "execution_count": 211,
   "metadata": {},
   "outputs": [],
   "source": [
    "def AddRoundKey(s,w):\n",
    "    for c in range(4):\n",
    "        for r in range(4):\n",
    "            w = HexToBin(w) #want to index bits from the hex value\n",
    "            s[c][r] ^= int(w[r])"
   ]
  },
  {
   "cell_type": "code",
   "execution_count": 212,
   "metadata": {},
   "outputs": [],
   "source": [
    "def Cipher(inputBlock, outputBlock, word):\n",
    "    Nb = 4\n",
    "    Nr = 10\n",
    "    state = inputBlock\n",
    "    AddRoundKey(state, word[0][Nb-1])\n",
    "    for i in range (1,Nr):\n",
    "        SubBytes(state) \n",
    "        ShiftRows(state)\n",
    "        MixColumns(state)\n",
    "        AddRoundKey(state, word[round*Nb][(round+1)*Nb-1])\n",
    "    SubBytes(state)\n",
    "    ShiftRows(state)\n",
    "    AddRoundKey(state, word[Nr*Nb][(Nr+1)*Nb-1])\n",
    "    outputBlock = state"
   ]
  },
  {
   "cell_type": "code",
   "execution_count": null,
   "metadata": {
    "scrolled": true
   },
   "outputs": [],
   "source": [
    "def HexToBin(hex):\n",
    "    hex = int(hex,0) #string to hex\n",
    "    binary = bin(hex).lstrip(\"0b\").rstrip(\"L\") #return a string of binary value\n",
    "    return binary"
   ]
  },
  {
   "cell_type": "code",
   "execution_count": null,
   "metadata": {},
   "outputs": [],
   "source": [
    "#testing the cipher\n",
    "inputBlock = [[0xa5, 0x81, 0x60, 0xb0],\n",
    "              [0x33, 0x88, 0x07, 0xc7],\n",
    "              [0xa1, 0x66, 0x28, 0xd9],\n",
    "              [0x47, 0xf1, 0x1a, 0x71]]\n",
    "\n",
    "word = [[0xbb, 0x16, 0x8a, 0x91], \n",
    "        [0xe7, 0xad, 0x35, 0x85],\n",
    "        [0xf8, 0xf6, 0x64, 0x86],\n",
    "        [0x5b, 0xa2, 0x49, 0x6d]]\n",
    "out = \"\"\n",
    "Cipher(inputBlock, out, word)\n",
    "out"
   ]
  },
  {
   "cell_type": "code",
   "execution_count": null,
   "metadata": {},
   "outputs": [],
   "source": [
    "Rcon = [0x01, 0x02, 0x04, 0x08, 0x10, 0x20, 0x40, 0x80, 0x1b, 0x36]"
   ]
  },
  {
   "cell_type": "code",
   "execution_count": 142,
   "metadata": {},
   "outputs": [],
   "source": [
    "def ByteToCol(byte1, byte2, byte3, byte4):\n",
    "    return (((byte1 << 8 | byte2) << 8 | byte3) << 8 | byte4)\n",
    "def SubWord(word):\n",
    "    t1 = (word & 0xff000000) >> 24\n",
    "    t2 = (word & 0x00ff0000) >> 16\n",
    "    t3 = (word & 0x0000ff00) >> 8\n",
    "    t4 = (word & 0x000000ff)\n",
    "    return ByteToCol(SBox[t1], SBox[t2], SBox[t3], SBox[t4])\n",
    "def RotWord(word):\n",
    "    word = word << 8 | (word >> (32 - 8))"
   ]
  },
  {
   "cell_type": "code",
   "execution_count": 143,
   "metadata": {},
   "outputs": [],
   "source": [
    "CipherKey = [0x8e, 0x73, 0xb0, 0xf7, 0xda, 0x0e, 0x64, 0x52, 0xc8, 0x10, 0xf3, 0x2b, 0x80, \n",
    "             0x90, 0x79, 0xe5, 0x62, 0xf8, 0xea, 0xd2, 0x52, 0x2c, 0x6b, 0x7b]"
   ]
  },
  {
   "cell_type": "code",
   "execution_count": 144,
   "metadata": {},
   "outputs": [],
   "source": [
    "def KeyExpansion(key, word, Nk=4):\n",
    "    i = 0\n",
    "    while (i < Nk):\n",
    "        w[i] = word(key[4*i], key[4*i+1], key[4*i+2], key[4*i+3])\n",
    "        i = i+1\n",
    "    i = Nk\n",
    "    while (i < Nb * (Nr+1)):\n",
    "        temp = w[i-1]\n",
    "        if (i % Nk == 0):\n",
    "            temp = SubWord(RotWord(temp)) ^ Rcon[i/Nk]\n",
    "        elif (Nk > 6 and i % Nk == 4):\n",
    "            temp = SubWord(temp)\n",
    "        w[i] = w[i-Nk] ^ temp\n",
    "        i = i + 1"
   ]
  },
  {
   "cell_type": "code",
   "execution_count": 145,
   "metadata": {},
   "outputs": [],
   "source": [
    "def InvCipher(inputBlock, outputBlock, word):\n",
    "    Nb = 4\n",
    "    Nr = 10\n",
    "    state = inputBlock\n",
    "    AddRoundKey(state, w[Nr*Nb, (Nr+1)*Nb-1])\n",
    "    for round in range(Nr-1, 1, -1): #round = Nr-1 step -1 downto 1\n",
    "        InvShiftRows(state)\n",
    "        InvSubBytes(state)\n",
    "        AddRoundKey(state, w[round*Nb, (round+1)*Nb-1])\n",
    "        InvMixColumns(state)\n",
    "    InvShiftRows(state)\n",
    "    InvSubBytes(state)\n",
    "    AddRoundKey(state, w[0, Nb-1])\n",
    "    outputBlock = state"
   ]
  }
 ],
 "metadata": {
  "kernelspec": {
   "display_name": "Python 3",
   "language": "python",
   "name": "python3"
  }
 },
 "nbformat": 4,
 "nbformat_minor": 2
}
